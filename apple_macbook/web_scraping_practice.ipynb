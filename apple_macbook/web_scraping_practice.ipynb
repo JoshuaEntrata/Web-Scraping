{
 "cells": [
  {
   "cell_type": "code",
   "execution_count": 1,
   "metadata": {},
   "outputs": [],
   "source": [
    "# %pip install bs4\n",
    "# %pip install requests\n",
    "# %pip install pandas"
   ]
  },
  {
   "cell_type": "code",
   "execution_count": 2,
   "metadata": {},
   "outputs": [],
   "source": [
    "from bs4 import BeautifulSoup\n",
    "import requests\n",
    "import pandas as pd"
   ]
  },
  {
   "cell_type": "code",
   "execution_count": 3,
   "metadata": {},
   "outputs": [],
   "source": [
    "URL = \"https://www.amazon.com/s?k=macbook+m3&crid=12BO4XRVCKPAP&sprefix=macbook+m%2Caps%2C350&ref=nb_sb_noss_2\""
   ]
  },
  {
   "cell_type": "code",
   "execution_count": 4,
   "metadata": {},
   "outputs": [],
   "source": [
    "HEADERS = ({\n",
    "    'User-Agent': 'Mozilla/5.0 (Windows NT 10.0; Win64; x64; rv:125.0) Gecko/20100101 Firefox/125.0',\n",
    "    'Accept-Langugae': 'en-US, en; q=0.5'\n",
    "})"
   ]
  },
  {
   "cell_type": "code",
   "execution_count": 5,
   "metadata": {},
   "outputs": [
    {
     "data": {
      "text/plain": [
       "<Response [200]>"
      ]
     },
     "execution_count": 5,
     "metadata": {},
     "output_type": "execute_result"
    }
   ],
   "source": [
    "webpage = requests.get(URL, headers=HEADERS)\n",
    "webpage"
   ]
  },
  {
   "cell_type": "code",
   "execution_count": 6,
   "metadata": {},
   "outputs": [
    {
     "data": {
      "text/plain": [
       "bytes"
      ]
     },
     "execution_count": 6,
     "metadata": {},
     "output_type": "execute_result"
    }
   ],
   "source": [
    "type(webpage.content)"
   ]
  },
  {
   "cell_type": "code",
   "execution_count": 7,
   "metadata": {},
   "outputs": [],
   "source": [
    "soup = BeautifulSoup(webpage.content, 'html.parser')"
   ]
  },
  {
   "cell_type": "code",
   "execution_count": 8,
   "metadata": {},
   "outputs": [],
   "source": [
    "links = soup.find_all(\"a\", attrs={\n",
    "    'class': 'a-link-normal s-underline-text s-underline-link-text s-link-style a-text-normal'\n",
    "})\n",
    "\n",
    "link = links[2].get('href')"
   ]
  },
  {
   "cell_type": "code",
   "execution_count": 9,
   "metadata": {},
   "outputs": [
    {
     "data": {
      "text/plain": [
       "'https://amazon.com/Apple-MacBook-Laptop-11%E2%80%91core-14%E2%80%91core/dp/B0CM5LN355/ref=sr_1_3?crid=12BO4XRVCKPAP&dib=eyJ2IjoiMSJ9.Mxv-LfaT1mRTkqi6GWEFXzmEIf8LWTGZUUWOFMbxV4juGmDK_Ts1TOpso7JcGbkY4SnIb6sjhUgDlC5ck4YfryJugvzjEL8dnd8agJnOfjp4jqipHPnBMDusf-e1KvdJKUwA2mFH1dz8hV-9b3Bx9JLL3b5wXGtzZH4hlvq1uyv6KH3hikPR3AfX_rJbNwT8FcSeWdc4sMqX2HHeE37rcmCKvDbZw0zFhfmokqgjbxU.f5ZcnDgEa-lhxCh0O1CZuFu6fiB06TSKFlCCerh2FKs&dib_tag=se&keywords=macbook+m3&qid=1714615016&sprefix=macbook+m%2Caps%2C350&sr=8-3'"
      ]
     },
     "execution_count": 9,
     "metadata": {},
     "output_type": "execute_result"
    }
   ],
   "source": [
    "product_list = \"https://amazon.com\" + link\n",
    "product_list"
   ]
  },
  {
   "cell_type": "code",
   "execution_count": 10,
   "metadata": {},
   "outputs": [
    {
     "data": {
      "text/plain": [
       "<Response [200]>"
      ]
     },
     "execution_count": 10,
     "metadata": {},
     "output_type": "execute_result"
    }
   ],
   "source": [
    "new_webpage = requests.get(product_list, headers=HEADERS)\n",
    "new_webpage"
   ]
  },
  {
   "cell_type": "code",
   "execution_count": 11,
   "metadata": {},
   "outputs": [],
   "source": [
    "new_soup = BeautifulSoup(new_webpage.content, \"html.parser\")"
   ]
  },
  {
   "cell_type": "code",
   "execution_count": 12,
   "metadata": {},
   "outputs": [
    {
     "data": {
      "text/plain": [
       "'Apple 2023 MacBook Pro Laptop M3 Pro chip with 11‑core CPU, 14‑core GPU: 14.2-inch Liquid Retina XDR Display, 18GB Unified Memory, 512GB SSD Storage. Works with iPhone/iPad; Silver'"
      ]
     },
     "execution_count": 12,
     "metadata": {},
     "output_type": "execute_result"
    }
   ],
   "source": [
    "# extract title\n",
    "new_soup.find(\"span\", attrs={'id': 'productTitle'}).text.strip()"
   ]
  },
  {
   "cell_type": "code",
   "execution_count": 13,
   "metadata": {},
   "outputs": [
    {
     "data": {
      "text/plain": [
       "'$1,655.08'"
      ]
     },
     "execution_count": 13,
     "metadata": {},
     "output_type": "execute_result"
    }
   ],
   "source": [
    "# extract price\n",
    "new_soup.find(\"span\", attrs={'class': 'a-price a-text-price a-size-medium apexPriceToPay'}\n",
    "              ).find('span', attrs={'class': 'a-offscreen'}).text"
   ]
  },
  {
   "cell_type": "code",
   "execution_count": 14,
   "metadata": {},
   "outputs": [
    {
     "data": {
      "text/plain": [
       "'MacBook Pro'"
      ]
     },
     "execution_count": 14,
     "metadata": {},
     "output_type": "execute_result"
    }
   ],
   "source": [
    "# extract model name\n",
    "new_soup.find(\"tr\", attrs={'class': 'a-spacing-small po-model_name'}\n",
    "              ).find(\"td\", attrs={\"class\": \"a-span9\"}\n",
    "                     ).find(\"span\", attrs={'class': 'a-size-base po-break-word'}).text"
   ]
  },
  {
   "cell_type": "code",
   "execution_count": 15,
   "metadata": {},
   "outputs": [
    {
     "data": {
      "text/plain": [
       "'14.2 Inches'"
      ]
     },
     "execution_count": 15,
     "metadata": {},
     "output_type": "execute_result"
    }
   ],
   "source": [
    "# extract screen size\n",
    "new_soup.find(\"tr\", attrs={'class': 'a-spacing-small po-display.size'}\n",
    "              ).find(\"td\", attrs={\"class\": \"a-span9\"}\n",
    "                     ).find(\"span\", attrs={'class': 'a-size-base po-break-word'}).text"
   ]
  },
  {
   "cell_type": "code",
   "execution_count": 16,
   "metadata": {},
   "outputs": [
    {
     "data": {
      "text/plain": [
       "'Silver'"
      ]
     },
     "execution_count": 16,
     "metadata": {},
     "output_type": "execute_result"
    }
   ],
   "source": [
    "# extract color\n",
    "new_soup.find(\"tr\", attrs={'class': 'a-spacing-small po-color'}\n",
    "              ).find(\"td\", attrs={\"class\": \"a-span9\"}\n",
    "                     ).find(\"span\", attrs={'class': 'a-size-base po-break-word'}).text"
   ]
  },
  {
   "cell_type": "code",
   "execution_count": 17,
   "metadata": {},
   "outputs": [
    {
     "data": {
      "text/plain": [
       "'512 GB'"
      ]
     },
     "execution_count": 17,
     "metadata": {},
     "output_type": "execute_result"
    }
   ],
   "source": [
    "# extract hard disk size\n",
    "new_soup.find(\"tr\", attrs={'class': 'a-spacing-small po-hard_disk.size'}\n",
    "              ).find(\"td\", attrs={\"class\": \"a-span9\"}\n",
    "                     ).find(\"span\", attrs={'class': 'a-size-base po-break-word'}).text"
   ]
  },
  {
   "cell_type": "code",
   "execution_count": 18,
   "metadata": {},
   "outputs": [
    {
     "data": {
      "text/plain": [
       "'18 GB'"
      ]
     },
     "execution_count": 18,
     "metadata": {},
     "output_type": "execute_result"
    }
   ],
   "source": [
    "# extract ram memory installed size\n",
    "new_soup.find(\"tr\", attrs={'class': 'a-spacing-small po-ram_memory.installed_size'}\n",
    "              ).find(\"td\", attrs={\"class\": \"a-span9\"}\n",
    "                     ).find(\"span\", attrs={'class': 'a-size-base po-break-word'}).text"
   ]
  },
  {
   "cell_type": "code",
   "execution_count": 19,
   "metadata": {},
   "outputs": [
    {
     "data": {
      "text/plain": [
       "'Mac OS'"
      ]
     },
     "execution_count": 19,
     "metadata": {},
     "output_type": "execute_result"
    }
   ],
   "source": [
    "# extract operating system\n",
    "new_soup.find(\"tr\", attrs={'class': 'a-spacing-small po-operating_system'}\n",
    "              ).find(\"td\", attrs={\"class\": \"a-span9\"}\n",
    "                     ).find(\"span\", attrs={'class': 'a-size-base po-break-word'}).text"
   ]
  },
  {
   "cell_type": "code",
   "execution_count": 20,
   "metadata": {},
   "outputs": [
    {
     "data": {
      "text/plain": [
       "'Integrated'"
      ]
     },
     "execution_count": 20,
     "metadata": {},
     "output_type": "execute_result"
    }
   ],
   "source": [
    "# extract graphics card description\n",
    "new_soup.find(\"tr\", attrs={'class': 'a-spacing-small po-graphics_description'}\n",
    "              ).find(\"td\", attrs={\"class\": \"a-span9\"}\n",
    "                     ).find(\"span\", attrs={'class': 'a-size-base po-break-word'}).text"
   ]
  },
  {
   "cell_type": "code",
   "execution_count": 21,
   "metadata": {},
   "outputs": [
    {
     "data": {
      "text/plain": [
       "'Apple Integrated Graphics'"
      ]
     },
     "execution_count": 21,
     "metadata": {},
     "output_type": "execute_result"
    }
   ],
   "source": [
    "# extract graphics coprocessor\n",
    "new_soup.find(\"tr\", attrs={'class': 'a-spacing-small po-graphics_coprocessor'}\n",
    "              ).find(\"td\", attrs={\"class\": \"a-span9\"}\n",
    "                     ).find(\"span\", attrs={'class': 'a-size-base po-break-word'}).text"
   ]
  },
  {
   "cell_type": "code",
   "execution_count": 22,
   "metadata": {},
   "outputs": [
    {
     "data": {
      "text/plain": [
       "'1'"
      ]
     },
     "execution_count": 22,
     "metadata": {},
     "output_type": "execute_result"
    }
   ],
   "source": [
    "# extract cpu speed\n",
    "new_soup.find(\"tr\", attrs={'class': 'a-spacing-small po-cpu_model.speed'}\n",
    "              ).find(\"td\", attrs={\"class\": \"a-span9\"}\n",
    "                     ).find(\"span\", attrs={'class': 'a-size-base po-break-word'}).text"
   ]
  },
  {
   "cell_type": "code",
   "execution_count": null,
   "metadata": {},
   "outputs": [],
   "source": []
  }
 ],
 "metadata": {
  "kernelspec": {
   "display_name": "Python 3",
   "language": "python",
   "name": "python3"
  },
  "language_info": {
   "codemirror_mode": {
    "name": "ipython",
    "version": 3
   },
   "file_extension": ".py",
   "mimetype": "text/x-python",
   "name": "python",
   "nbconvert_exporter": "python",
   "pygments_lexer": "ipython3",
   "version": "3.11.4"
  }
 },
 "nbformat": 4,
 "nbformat_minor": 2
}
